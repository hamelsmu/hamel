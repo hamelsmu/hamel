{
 "cells": [
  {
   "cell_type": "markdown",
   "metadata": {},
   "source": [
    "# hamel\n",
    "\n",
    "> General Utilities"
   ]
  },
  {
   "cell_type": "markdown",
   "metadata": {},
   "source": [
    "[Hamel's](https://hamel.dev) python utilities for rapid development."
   ]
  },
  {
   "cell_type": "markdown",
   "metadata": {},
   "source": [
    "## Install"
   ]
  },
  {
   "cell_type": "markdown",
   "metadata": {},
   "source": [
    "```sh\n",
    "pip install hamel\n",
    "```"
   ]
  },
  {
   "cell_type": "markdown",
   "metadata": {},
   "source": [
    "## How to use"
   ]
  },
  {
   "cell_type": "code",
   "execution_count": null,
   "metadata": {},
   "outputs": [
    {
     "name": "stdout",
     "output_type": "stream",
     "text": [
      "| Name                    | Created Dt   |\n",
      "|:------------------------|:-------------|\n",
      "| gpt-4                   | 2023-06-27   |\n",
      "| gpt-4-0314              | 2023-06-27   |\n",
      "| gpt-4-0613              | 2023-06-12   |\n",
      "| gpt-3.5-turbo-0613      | 2023-06-12   |\n",
      "| gpt-3.5-turbo-16k-0613  | 2023-05-30   |\n",
      "| gpt-3.5-turbo-16k       | 2023-05-10   |\n",
      "| tts-1                   | 2023-04-19   |\n",
      "| gpt-3.5-turbo-0301      | 2023-02-28   |\n",
      "| gpt-3.5-turbo           | 2023-02-28   |\n",
      "| whisper-1               | 2023-02-27   |\n",
      "| text-embedding-ada-002  | 2022-12-16   |\n",
      "| text-davinci-003        | 2022-11-27   |\n",
      "| curie-similarity        | 2022-04-28   |\n",
      "| babbage-search-document | 2022-04-28   |\n",
      "| ada-code-search-text    | 2022-04-28   |\n"
     ]
    }
   ],
   "source": [
    "!oai_list_models --owned openai --limit 15"
   ]
  },
  {
   "cell_type": "code",
   "execution_count": null,
   "metadata": {},
   "outputs": [
    {
     "name": "stdout",
     "output_type": "stream",
     "text": [
      "usage: oai_new_func [-h] [--name NAME] [--description DESCRIPTION] [--url URL]\n",
      "                    [--email EMAIL]\n",
      "\n",
      "Generate minimal scaffolding for an OpenAI Plugin.\n",
      "\n",
      "options:\n",
      "  -h, --help                 show this help message and exit\n",
      "  --name NAME                the name of your app for the LLM, ex: `todo`. By\n",
      "                             default, this is inferred from the name of your git\n",
      "                             repo. (default: )\n",
      "  --description DESCRIPTION  the description of your application that will be\n",
      "                             read by the LLM. (default: )\n",
      "  --url URL                  The url of your function endpoint. (default:\n",
      "                             http://localhost:8000)\n",
      "  --email EMAIL              The email associated with your app. By default this\n",
      "                             is inferred by git. (default: )\n"
     ]
    }
   ],
   "source": [
    "!oai_new_func --help"
   ]
  },
  {
   "cell_type": "code",
   "execution_count": null,
   "metadata": {},
   "outputs": [
    {
     "name": "stdout",
     "output_type": "stream",
     "text": [
      "usage: fetch_site [-h] [--to_markdown] url output_dir\n",
      "\n",
      "Fetch content from the specified URL and save it to the given directory. Saves\n",
      "the content as a markdown file if `to_markdown` is True. Otherwise, it saves the\n",
      "content as an HTML file.\n",
      "\n",
      "positional arguments:\n",
      "  url            The site that you want to fetch documents from\n",
      "  output_dir     The output directory to write documents to,\n",
      "\n",
      "options:\n",
      "  -h, --help     show this help message and exit\n",
      "  --to_markdown  Write output as markdown (recommended) (default: False)\n"
     ]
    }
   ],
   "source": [
    "!fetch_site --help"
   ]
  },
  {
   "cell_type": "code",
   "execution_count": null,
   "metadata": {},
   "outputs": [],
   "source": []
  }
 ],
 "metadata": {
  "kernelspec": {
   "display_name": "python3",
   "language": "python",
   "name": "python3"
  }
 },
 "nbformat": 4,
 "nbformat_minor": 4
}
