{
 "cells": [
  {
   "cell_type": "markdown",
   "metadata": {},
   "source": [
    "# hamel\n",
    "\n",
    "> General Utilities"
   ]
  },
  {
   "cell_type": "markdown",
   "metadata": {},
   "source": [
    "[Hamel's](https://hamel.dev) python utilities for rapid development."
   ]
  },
  {
   "cell_type": "markdown",
   "metadata": {},
   "source": [
    "## Install"
   ]
  },
  {
   "cell_type": "markdown",
   "metadata": {},
   "source": [
    "```sh\n",
    "pip install hamel\n",
    "```"
   ]
  },
  {
   "cell_type": "markdown",
   "metadata": {},
   "source": [
    "## How to use"
   ]
  },
  {
   "cell_type": "code",
   "execution_count": null,
   "metadata": {},
   "outputs": [
    {
     "name": "stdout",
     "output_type": "stream",
     "text": [
      "| Name                    | Created Dt   |\n",
      "|:------------------------|:-------------|\n",
      "| gpt-4                   | 2023-06-27   |\n",
      "| gpt-4-0314              | 2023-06-27   |\n",
      "| gpt-4-0613              | 2023-06-12   |\n",
      "| gpt-3.5-turbo-0613      | 2023-06-12   |\n",
      "| gpt-3.5-turbo-16k-0613  | 2023-05-30   |\n",
      "| gpt-3.5-turbo-16k       | 2023-05-10   |\n",
      "| tts-1                   | 2023-04-19   |\n",
      "| gpt-3.5-turbo-0301      | 2023-02-28   |\n",
      "| gpt-3.5-turbo           | 2023-02-28   |\n",
      "| whisper-1               | 2023-02-27   |\n",
      "| text-embedding-ada-002  | 2022-12-16   |\n",
      "| text-davinci-003        | 2022-11-27   |\n",
      "| curie-similarity        | 2022-04-28   |\n",
      "| babbage-search-document | 2022-04-28   |\n",
      "| ada-code-search-text    | 2022-04-28   |\n"
     ]
    }
   ],
   "source": [
    "!oai_list_models --owned openai --limit 15"
   ]
  },
  {
   "cell_type": "code",
   "execution_count": null,
   "metadata": {},
   "outputs": [
    {
     "name": "stdout",
     "output_type": "stream",
     "text": [
      "usage: oai_new_func [-h]\n",
      "\n",
      "Generate minimal scaffolding for an OpenAI Plugin.\n",
      "\n",
      "options:\n",
      "  -h, --help  show this help message and exit\n"
     ]
    }
   ],
   "source": [
    "!oai_new_func --help"
   ]
  },
  {
   "cell_type": "code",
   "execution_count": null,
   "metadata": {},
   "outputs": [],
   "source": []
  }
 ],
 "metadata": {
  "kernelspec": {
   "display_name": "python3",
   "language": "python",
   "name": "python3"
  }
 },
 "nbformat": 4,
 "nbformat_minor": 4
}
