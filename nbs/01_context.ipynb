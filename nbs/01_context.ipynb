{
 "cells": [
  {
   "cell_type": "markdown",
   "id": "65542615-0b45-49aa-999a-495e26012bf8",
   "metadata": {},
   "source": [
    "# Context\n",
    "> Utilities for pulling context"
   ]
  },
  {
   "cell_type": "code",
   "execution_count": null,
   "id": "317f91b6-70aa-434d-be35-26a42aa4ce0e",
   "metadata": {},
   "outputs": [],
   "source": [
    "#|default_exp context"
   ]
  },
  {
   "cell_type": "code",
   "execution_count": null,
   "id": "77c3133e-8836-4361-a2c2-569a0f2fef96",
   "metadata": {},
   "outputs": [],
   "source": [
    "#|export\n",
    "import os, re, requests\n",
    "from fastcore.script import call_parse\n",
    "from concurrent.futures import ThreadPoolExecutor, as_completed\n",
    "from urllib.parse import urlparse, urljoin\n",
    "import pandoc\n",
    "from requests.exceptions import RequestException\n",
    "import xml.etree.ElementTree as ET\n",
    "from tqdm import tqdm"
   ]
  },
  {
   "cell_type": "code",
   "execution_count": null,
   "id": "f9afdf58-db3a-4008-af39-d4a55ab13a1d",
   "metadata": {},
   "outputs": [],
   "source": [
    "#|export\n",
    "def _sanitize_filename(name):\n",
    "    invalid_chars = '<>:\"/\\\\|?*'\n",
    "    for char in invalid_chars:\n",
    "        name = name.replace(char, '_')\n",
    "    # Strip existing file extension if any when markdown is expected\n",
    "    name = os.path.splitext(name)[0]\n",
    "    return name\n",
    "\n",
    "def _html_to_markdown_pandoc(html_content, strip_html=False):\n",
    "    p = pandoc.read(source=html_content, format='html')\n",
    "    md = pandoc.write(p, format='markdown_strict')\n",
    "    if strip_html: md = re.sub(r'<[^>]*>', '', md)\n",
    "    return md\n",
    "\n",
    "def _fetch_and_save(url:str, output_dir:str, to_markdown:bool):\n",
    "    try:\n",
    "        response = requests.get(url, timeout=10)\n",
    "        response.raise_for_status()\n",
    "        content = response.content  # Assuming binary content to handle non-text files as well\n",
    "\n",
    "        parsed_url = urlparse(url)\n",
    "        filename = _sanitize_filename(parsed_url.path.strip('/').replace('/', '_') or 'index')\n",
    "        # Determine the file extension based on to_markdown flag\n",
    "        file_extension = '.md' if to_markdown else '.html'\n",
    "        filename += file_extension\n",
    "\n",
    "        filepath = os.path.join(output_dir, filename)\n",
    "        os.makedirs(os.path.dirname(filepath), exist_ok=True)\n",
    "\n",
    "        with open(filepath, 'wb' if not to_markdown else 'w', encoding=None if not to_markdown else 'utf-8') as f:\n",
    "            if to_markdown:\n",
    "                # Convert HTML to markdown if needed\n",
    "                content = _html_to_markdown_pandoc(content.decode('utf-8'))\n",
    "            f.write(content)\n",
    "        return url, None\n",
    "    except RequestException as e:\n",
    "        return url, f\"HTTP error for URL '{url}': {e}\"\n",
    "    except Exception as e:\n",
    "        return url, f\"Failed to fetch or save URL '{url}': {e}\"\n",
    "\n",
    "@call_parse\n",
    "def fetch_site_from_sitemap(url:str, # The site that you want to fetch documents from \n",
    "                            output_dir:str, # The output directory to write documents to, \n",
    "                            to_markdown:bool=True # Write output as markdown (recommended)\n",
    "                           ) :\n",
    "    \"\"\"\n",
    "    Fetch content from the specified URL and save it to the given directory.\n",
    "\n",
    "    Saves the content as a markdown file if `to_markdown` is True. Otherwise, it saves the content as an HTML file. \n",
    "    \"\"\"\n",
    "    \n",
    "    if not url.endswith('/sitemap.xml'):\n",
    "        url = urljoin(url, '/sitemap.xml')\n",
    "\n",
    "    try:\n",
    "        sitemap_response = requests.get(url, timeout=10)\n",
    "        sitemap_response.raise_for_status()\n",
    "        sitemap_xml = sitemap_response.text\n",
    "    except RequestException as e:\n",
    "        print(f\"HTTP error when accessing sitemap: {e}\")\n",
    "        return\n",
    "    except Exception as e:\n",
    "        print(f\"Unexpected error when downloading sitemap: {e}\")\n",
    "        return\n",
    "\n",
    "    try:\n",
    "        root = ET.fromstring(sitemap_xml)\n",
    "        namespaces = {'ns': root.tag.split('}')[0].strip('{')}\n",
    "        urls = [url.text for url in root.findall('ns:url/ns:loc', namespaces)]\n",
    "    except ET.ParseError as e:\n",
    "        print(f\"Error parsing the XML sitemap: {e}\")\n",
    "        return\n",
    "    except Exception as e:\n",
    "        print(f\"Unexpected error when parsing sitemap: {e}\")\n",
    "        return\n",
    "\n",
    "    os.makedirs(output_dir, exist_ok=True)\n",
    "\n",
    "    tasks = []\n",
    "    with ThreadPoolExecutor() as executor:\n",
    "        for url in urls:\n",
    "            tasks.append(executor.submit(_fetch_and_save, url, output_dir, to_markdown))\n",
    "\n",
    "        for future in tqdm(as_completed(tasks), total=len(tasks), unit='file'):\n",
    "            url, error = future.result()\n",
    "            if error:\n",
    "                print(error)"
   ]
  },
  {
   "cell_type": "code",
   "execution_count": null,
   "id": "5375a331-a726-4434-8141-ce7e0e4764c5",
   "metadata": {},
   "outputs": [
    {
     "name": "stderr",
     "output_type": "stream",
     "text": [
      "100%|████████████████████████████████████████████████████████████| 291/291 [00:29<00:00,  9.95file/s]\n"
     ]
    }
   ],
   "source": [
    "fetch_site_from_sitemap('https://quarto.org', \n",
    "                        output_dir='quarto_files/')"
   ]
  },
  {
   "cell_type": "code",
   "execution_count": null,
   "id": "4aa4b3c5-a74c-46a4-9a76-43a184c29afd",
   "metadata": {},
   "outputs": [
    {
     "name": "stdout",
     "output_type": "stream",
     "text": [
      "about.md\n",
      "bug-reports.md\n",
      "docs_authoring_appendices.md\n",
      "docs_authoring_article-layout.md\n",
      "docs_authoring_callouts.md\n"
     ]
    }
   ],
   "source": [
    "!ls quarto_files/ | head -n5"
   ]
  },
  {
   "cell_type": "code",
   "execution_count": null,
   "id": "d7289a5d-c3d4-4e76-a86a-83daedeac3ec",
   "metadata": {},
   "outputs": [
    {
     "name": "stdout",
     "output_type": "stream",
     "text": [
      "\n",
      "        # configure for your platform (./configure.sh or ./configure.cmd for windows)\n",
      "        $ cd quarto-cli\n",
      "        $ ./configure.sh\n",
      "\n",
      "        # checkout a new branch\n",
      "        $ git checkout -b feature/newthing\n",
      "\n",
      "2.  For significant changes (e.g more than small bug fixes), ensure that\n",
      "    you have signed the\n",
      "    [individual](https://posit.co/wp-content/uploads/2023/04/2023-03-13_TC_Indiv_contrib_agreement.pdf)\n",
      "    or\n",
      "    [corporate](https://posit.co/wp-content/uploads/2023/04/2023-03-13_TC_Corp_contrib_agreement.pdf)\n",
      "    contributor agreement as appropriate. You can send the signed copy\n",
      "    to <jj@rstudio.com>.\n",
      "\n",
      "3.  Submit the [pull\n",
      "    request](https://help.github.com/articles/using-pull-requests). It\n",
      "    is ok to submit as draft in your are still working on it but would\n",
      "    like some feedback from us. It always good to share in the open that\n",
      "    you are working on it.\n",
      "\n",
      "We’ll try to be as responsive as possible in reviewing and accepting\n",
      "pull requests.\n",
      "\n",
      "Proudly supported by [<img\n",
      "src=\"https://www.rstudio.com/assets/img/posit-logo-fullcolor-TM.svg\"\n",
      "class=\"img-fluid\" width=\"65\" alt=\"Posit\" />](https://posit.co)\n",
      "\n",
      "-   <a href=\"./about.html\" class=\"nav-link active\" aria-current=\"page\"></a>\n",
      "\n",
      "    About\n",
      "\n",
      "-   <a href=\"./docs/faq/index.html\" class=\"nav-link\"></a>\n",
      "\n",
      "    FAQ\n",
      "\n",
      "-   <a href=\"./license.html\" class=\"nav-link\"></a>\n",
      "\n",
      "    License\n",
      "\n",
      "-   <a href=\"./trademark.html\" class=\"nav-link\"></a>\n",
      "\n",
      "    Trademark\n",
      "\n",
      "-   <a href=\"https://twitter.com/quarto_pub\" class=\"nav-link\"><em></em></a>\n",
      "-   <a href=\"https://github.com/quarto-dev/quarto-cli\"\n",
      "    class=\"nav-link\"><em></em></a>\n",
      "-   <a href=\"https://quarto.org/docs/blog/index.xml\"\n",
      "    class=\"nav-link\"><em></em></a>\n"
     ]
    }
   ],
   "source": [
    "!cat quarto_files/about.md | tail -n50"
   ]
  },
  {
   "cell_type": "code",
   "execution_count": null,
   "id": "0a94abe6-c409-4c33-a374-8898230ca254",
   "metadata": {},
   "outputs": [],
   "source": []
  }
 ],
 "metadata": {
  "kernelspec": {
   "display_name": "python3",
   "language": "python",
   "name": "python3"
  }
 },
 "nbformat": 4,
 "nbformat_minor": 5
}
